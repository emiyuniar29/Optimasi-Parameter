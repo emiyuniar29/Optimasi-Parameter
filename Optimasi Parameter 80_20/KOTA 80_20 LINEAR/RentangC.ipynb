{
 "cells": [
  {
   "cell_type": "code",
   "execution_count": 1,
   "id": "dbb6692d-757f-45d5-bc74-e75a787af5ac",
   "metadata": {},
   "outputs": [],
   "source": [
    "import random\n",
    "import numpy as np\n",
    "import pandas as pd\n",
    "import matplotlib.pyplot as plt\n",
    "from sklearn.preprocessing import MinMaxScaler\n",
    "from sklearn.model_selection import train_test_split\n",
    "from sklearn.svm import SVR\n",
    "from sklearn.metrics import mean_absolute_percentage_error\n",
    "from deap import base, creator, tools, algorithms"
   ]
  },
  {
   "cell_type": "code",
   "execution_count": 2,
   "id": "71b7f206-8b4d-43b8-bec2-04236ce9486e",
   "metadata": {},
   "outputs": [],
   "source": [
    "SEED = 42\n",
    "random.seed(SEED)\n",
    "np.random.seed(SEED)   \n",
    "\n",
    "data = pd.read_csv('DATA_KOTA.csv')\n",
    "\n",
    "df = pd.DataFrame(data)\n",
    "\n",
    "# Membagi kolom tanggal menjadi tahun dan bulan\n",
    "df['tahun'] = df['tahun_bulan'].apply(lambda x: int(x.split('-')[0]))\n",
    "df['bulan'] = df['tahun_bulan'].apply(lambda x: int(x.split('-')[1]))\n",
    "\n",
    "# Normalisasi MinMax\n",
    "scaler = MinMaxScaler()\n",
    "df['jumlah_kecelakaan'] = scaler.fit_transform(df[['jumlah_kecelakaan']])\n",
    "\n",
    "# Memisahkan fitur dan target\n",
    "X = df[['tahun', 'bulan']].values\n",
    "y = df['jumlah_kecelakaan'].values"
   ]
  },
  {
   "cell_type": "code",
   "execution_count": 3,
   "id": "57d91698-0ec1-495a-b2c1-b4e7b1301634",
   "metadata": {},
   "outputs": [],
   "source": [
    "# Pisahkan data menjadi training dan testing\n",
    "X_train, X_val, y_train, y_val = train_test_split(X, y, test_size=0.2, random_state=SEED)"
   ]
  },
  {
   "cell_type": "code",
   "execution_count": 4,
   "id": "04009107-230d-48a2-95e6-3b2708419946",
   "metadata": {},
   "outputs": [],
   "source": [
    "# Definisikan evaluasi fungsi\n",
    "def evaluate(individual):\n",
    "    C = individual[0]\n",
    "    if C <= 0:\n",
    "        return float('inf'),\n",
    "    svr = SVR(kernel='linear', C=C, epsilon=0.1, gamma=0.1)  # Gunakan nilai tetap untuk epsilon dan gamma\n",
    "    svr.fit(X_train, y_train)\n",
    "    predictions = svr.predict(X_val)\n",
    "    mape = mean_absolute_percentage_error(y_val, predictions) * 100\n",
    "    return mape,\n",
    "\n",
    "# Inisialisasi populasi awal\n",
    "def initialize_population(population_size, parameter_ranges):\n",
    "    population = []\n",
    "    for _ in range(population_size):\n",
    "        chromosome = []\n",
    "        for param_range in parameter_ranges:\n",
    "            param_value = np.random.uniform(param_range[0], param_range[1])\n",
    "            chromosome.append(param_value)\n",
    "        population.append(chromosome)\n",
    "    return population\n",
    "\n",
    "# Seleksi individu berdasarkan nilai fitness (MAPE)\n",
    "def selection(population):\n",
    "    fitnesses = list(map(evaluate, population))\n",
    "    selected_population = [ind for ind, fit in sorted(zip(population, fitnesses), key=lambda ind_fit: ind_fit[1])]\n",
    "    return selected_population[:len(population)//2]\n",
    "\n",
    "# Crossover: Menghasilkan keturunan dari pasangan individu terpilih\n",
    "def crossover(selected_population):\n",
    "    new_population = []\n",
    "    ukuran_populasi = len(selected_population)\n",
    "    \n",
    "    for i in range(ukuran_populasi):\n",
    "        parent1 = selected_population[i]\n",
    "        \n",
    "        # Tentukan parent2 dengan pemeriksaan batas\n",
    "        if i % 2 == 0:\n",
    "            if i - 1 >= 0:\n",
    "                parent2 = selected_population[i-1]\n",
    "            else:\n",
    "                parent2 = selected_population[i]\n",
    "        else:\n",
    "            if i + 1 < ukuran_populasi:\n",
    "                parent2 = selected_population[i+1]\n",
    "            else:\n",
    "                parent2 = selected_population[i]\n",
    "        \n",
    "        if len(parent1) > 2:\n",
    "            crossover_point = np.random.randint(1, len(parent1)-1)\n",
    "            child = parent1[:crossover_point] + parent2[crossover_point:]\n",
    "        else:\n",
    "            child = parent1  # Jika panjang parent1 tidak memungkinkan, gunakan parent1 tanpa crossover\n",
    "        \n",
    "        new_population.append(child)\n",
    "    \n",
    "    return new_population\n",
    "\n",
    "# Mutasi: Mengubah nilai gen secara acak pada populasi baru\n",
    "def mutation(new_population, mutation_rate, parameter_ranges, sigma_range):\n",
    "    for i in range(len(new_population)):\n",
    "        if np.random.random() < mutation_rate:\n",
    "            mutated_gene_index = np.random.randint(0, len(new_population[i]))\n",
    "            sigma = np.random.uniform(sigma_range[0], sigma_range[1])\n",
    "            new_value = new_population[i][mutated_gene_index] + np.random.normal(0, sigma)\n",
    "            new_population[i][mutated_gene_index] = np.clip(new_value, parameter_ranges[mutated_gene_index][0], parameter_ranges[mutated_gene_index][1])\n",
    "    return new_population"
   ]
  },
  {
   "cell_type": "code",
   "execution_count": 5,
   "id": "30f6fbf3-89c9-4e2e-9d20-e12a86229ded",
   "metadata": {},
   "outputs": [
    {
     "name": "stdout",
     "output_type": "stream",
     "text": [
      "MAPE terbaik untuk rentang C (0.0001, 0.01): 30.827173343491243\n",
      "MAPE terbaik untuk rentang C (0.0001, 0.1): 25.89187965292939\n",
      "MAPE terbaik untuk rentang C (0.01, 1): 25.88938940352695\n",
      "MAPE terbaik untuk rentang C (0.01, 5): 25.88942562999564\n",
      "MAPE terbaik untuk rentang C (1, 5): 25.88282695540118\n",
      "MAPE terbaik untuk rentang C (1, 10): 25.88884705818752\n",
      "MAPE terbaik untuk rentang C (10, 25): 25.888763726970694\n",
      "MAPE terbaik untuk rentang C (10, 50): 25.889386594625236\n",
      "\n",
      "Kombinasi C terbaik:\n",
      "Rentang C: (1, 5)\n",
      "MAPE terbaik: 25.88282695540118\n"
     ]
    }
   ],
   "source": [
    "c_ranges = [(0.0001, 0.01), (0.0001, 0.1), (0.01, 1), (0.01, 5), (1, 5), (1, 10), (10, 25), (10, 50)]\n",
    "crossover_rate = 0.3  # Tetapkan tingkat crossover tetap untuk eksperimen\n",
    "mutation_rate = 0.7  # Tetapkan tingkat mutasi tetap untuk eksperimen\n",
    "num_generations = 25  # Tetapkan jumlah generasi tetap untuk eksperimen\n",
    "sigma_range = (0.5, 5)\n",
    "\n",
    "results = []\n",
    "\n",
    "# Evaluasi kombinasi C yang diminta\n",
    "for c_range in c_ranges:\n",
    "    parameter_ranges = [c_range]\n",
    "    population_size = 50  # Ukuran populasi tetap\n",
    "\n",
    "    population = initialize_population(population_size, parameter_ranges)\n",
    "\n",
    "    for generation in range(num_generations):\n",
    "        selected_population = selection(population)\n",
    "        new_population = crossover(selected_population)\n",
    "        new_population = mutation(new_population, mutation_rate, parameter_ranges, sigma_range)\n",
    "\n",
    "        # Pastikan ukuran populasi tetap\n",
    "        if len(new_population) < population_size:\n",
    "            additional_individuals = initialize_population(population_size - len(new_population), parameter_ranges)\n",
    "            new_population.extend(additional_individuals)\n",
    "        elif len(new_population) > population_size:\n",
    "            new_population = new_population[:population_size]\n",
    "\n",
    "        assert len(new_population) == population_size, \"Ukuran populasi baru tidak sesuai\"\n",
    "\n",
    "        population = new_population\n",
    "\n",
    "    # Ambil individu terbaik (dengan MAPE terendah) dari populasi terakhir\n",
    "    best_chromosome = min(population, key=lambda ind: evaluate(ind)[0])\n",
    "    best_population_mape = evaluate(best_chromosome)[0]\n",
    "    results.append((c_range, best_population_mape))\n",
    "\n",
    "    print(f\"MAPE terbaik untuk rentang C {c_range}: {best_population_mape}\")\n",
    "\n",
    "# Tampilkan hasil terbaik\n",
    "best_result = min(results, key=lambda x: x[1])\n",
    "print(f\"\\nKombinasi C terbaik:\")\n",
    "print(f\"Rentang C: {best_result[0]}\")\n",
    "print(f\"MAPE terbaik: {best_result[1]}\")"
   ]
  },
  {
   "cell_type": "code",
   "execution_count": 6,
   "id": "4b3a583b-9e93-4951-b7e3-8c73c8f89a65",
   "metadata": {},
   "outputs": [
    {
     "data": {
      "image/png": "[encoded data removed]",
      "text/plain": [
       "<Figure size 640x480 with 1 Axes>"
      ]
     },
     "metadata": {},
     "output_type": "display_data"
    }
   ],
   "source": [
    "# Plot hasil\n",
    "fig, ax = plt.subplots()\n",
    "c_ranges_str = [f\"{r[0]}-{r[1]}\" for r in c_ranges]\n",
    "mapes = [r[1] for r in results]\n",
    "ax.plot(c_ranges_str, mapes, marker='o')\n",
    "ax.set_xlabel('C Range')\n",
    "ax.set_ylabel('MAPE')\n",
    "ax.set_title('MAPE vs C Range')\n",
    "plt.grid(True)\n",
    "plt.xticks(rotation=45)\n",
    "plt.show()"
   ]
  },
  {
   "cell_type": "code",
   "execution_count": null,
   "id": "73743fef-772b-451b-ae3d-a9fc43811d08",
   "metadata": {},
   "outputs": [],
   "source": []
  }
 ],
 "metadata": {
  "kernelspec": {
   "display_name": "Python 3 (ipykernel)",
   "language": "python",
   "name": "python3"
  },
  "language_info": {
   "codemirror_mode": {
    "name": "ipython",
    "version": 3
   },
   "file_extension": ".py",
   "mimetype": "text/x-python",
   "name": "python",
   "nbconvert_exporter": "python",
   "pygments_lexer": "ipython3",
   "version": "3.12.3"
  }
 },
 "nbformat": 4,
 "nbformat_minor": 5
}

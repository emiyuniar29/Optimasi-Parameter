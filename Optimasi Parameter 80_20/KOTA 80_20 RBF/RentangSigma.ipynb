{
 "cells": [
  {
   "cell_type": "code",
   "execution_count": 1,
   "id": "dbb6692d-757f-45d5-bc74-e75a787af5ac",
   "metadata": {},
   "outputs": [],
   "source": [
    "import random\n",
    "import numpy as np\n",
    "import pandas as pd\n",
    "import matplotlib.pyplot as plt\n",
    "from sklearn.preprocessing import MinMaxScaler\n",
    "from sklearn.model_selection import train_test_split\n",
    "from sklearn.svm import SVR\n",
    "from sklearn.metrics import mean_absolute_percentage_error\n",
    "from deap import base, creator, tools, algorithms"
   ]
  },
  {
   "cell_type": "code",
   "execution_count": 2,
   "id": "71b7f206-8b4d-43b8-bec2-04236ce9486e",
   "metadata": {},
   "outputs": [],
   "source": [
    "SEED = 42\n",
    "random.seed(SEED)\n",
    "np.random.seed(SEED)   \n",
    "\n",
    "data = pd.read_csv('DATA_KOTA.csv')\n",
    "data_kecelakaan = data['jumlah_kecelakaan']\n",
    "X = data_kecelakaan[:-1].values.reshape(-1,1)\n",
    "y = data_kecelakaan[1:].values.reshape(-1,1).ravel()\n",
    "\n",
    "df = pd.DataFrame(data)\n",
    "\n",
    "# Pastikan jumlah sampel dan target sama\n",
    "assert len(X) == len(y), \"Jumlah sampel dan target harus sama\"\n",
    "\n",
    "# Membagi kolom tanggal menjadi tahun dan bulan\n",
    "df['tahun'] = df['tahun_bulan'].apply(lambda x: int(x.split('-')[0]))\n",
    "df['bulan'] = df['tahun_bulan'].apply(lambda x: int(x.split('-')[1]))\n",
    "\n",
    "# Normalisasi MinMax\n",
    "scaler = MinMaxScaler()\n",
    "df['jumlah_kecelakaan'] = scaler.fit_transform(df[['jumlah_kecelakaan']])\n",
    "\n",
    "# Memisahkan fitur dan target\n",
    "X = df[['tahun', 'bulan']].values\n",
    "y = df['jumlah_kecelakaan'].values"
   ]
  },
  {
   "cell_type": "code",
   "execution_count": 3,
   "id": "57d91698-0ec1-495a-b2c1-b4e7b1301634",
   "metadata": {},
   "outputs": [],
   "source": [
    "# Pisahkan data menjadi training dan testing\n",
    "X_train, X_val, y_train, y_val = train_test_split(X, y, test_size=0.2, random_state=SEED)"
   ]
  },
  {
   "cell_type": "code",
   "execution_count": 4,
   "id": "04009107-230d-48a2-95e6-3b2708419946",
   "metadata": {},
   "outputs": [],
   "source": [
    "# Fungsi untuk menghitung MAPE menggunakan model SVR dengan parameter tertentu\n",
    "def calculate_mape(X_train, y_train, X_val, y_val, params):\n",
    "    C, epsilon, gamma = params\n",
    "    svr = SVR(C=C, epsilon=epsilon, gamma=gamma)\n",
    "    svr.fit(X_train, y_train)\n",
    "    y_pred = svr.predict(X_val)\n",
    "    mape = mean_absolute_percentage_error(y_val, y_pred) * 100\n",
    "    return mape\n",
    "\n",
    "# Inisialisasi populasi awal\n",
    "def initialize_population(population_size, parameter_ranges):\n",
    "    population = []\n",
    "    for _ in range(population_size):\n",
    "        chromosome = []\n",
    "        for param_range in parameter_ranges:\n",
    "            param_value = np.random.uniform(param_range[0], param_range[1])\n",
    "            chromosome.append(param_value)\n",
    "        population.append(chromosome)\n",
    "    return population\n",
    "\n",
    "# Seleksi individu berdasarkan nilai fitness (MAPE)\n",
    "def selection(population, X_train, y_train, X_val, y_val):\n",
    "    selected_population = []\n",
    "    for chromosome in population:\n",
    "        mape = calculate_mape(X_train, y_train, X_val, y_val, chromosome)\n",
    "        selected_population.append((chromosome, mape))\n",
    "    selected_population.sort(key=lambda x: x[1])  # Sort berdasarkan MAPE terendah\n",
    "    return selected_population[:len(population)//2]  # Pilih setengah individu terbaik\n",
    "    \n",
    "# Crossover: Menghasilkan keturunan dari pasangan individu terpilih\n",
    "def crossover(selected_population):\n",
    "    new_population = []\n",
    "    ukuran_populasi = len(selected_population)\n",
    "    \n",
    "    for i in range(ukuran_populasi):\n",
    "        parent1 = selected_population[i][0]\n",
    "        \n",
    "        # Tentukan parent2 dengan pemeriksaan batas\n",
    "        if i % 2 == 0:\n",
    "            if i - 1 >= 0:\n",
    "                parent2 = selected_population[i-1][0]\n",
    "            else:\n",
    "                parent2 = selected_population[i][0]  # Penanganan alternatif jika i-1 tidak valid\n",
    "        else:\n",
    "            if i + 1 < ukuran_populasi:\n",
    "                parent2 = selected_population[i+1][0]\n",
    "            else:\n",
    "                parent2 = selected_population[i][0]  # Penanganan alternatif jika i+1 tidak valid\n",
    "        \n",
    "        crossover_point = np.random.randint(1, len(parent1)-1)\n",
    "        child = parent1[:crossover_point] + parent2[crossover_point:]\n",
    "        new_population.append(child)\n",
    "    \n",
    "    return new_population\n",
    "\n",
    "# Mutasi: Mengubah nilai gen secara acak pada populasi baru\n",
    "def mutation(new_population, mutation_rate, parameter_ranges):\n",
    "    for i in range(len(new_population)):\n",
    "        if np.random.random() < mutation_rate:\n",
    "            mutated_gene_index = np.random.randint(0, len(new_population[i]))\n",
    "            new_value = np.random.uniform(parameter_ranges[mutated_gene_index][0], parameter_ranges[mutated_gene_index][1])\n",
    "            new_population[i][mutated_gene_index] = new_value\n",
    "    return new_population"
   ]
  },
  {
   "cell_type": "code",
   "execution_count": 5,
   "id": "1eeefc4d-f126-4ac0-895b-846d0f31484e",
   "metadata": {},
   "outputs": [
    {
     "name": "stdout",
     "output_type": "stream",
     "text": [
      "MAPE terbaik untuk rentang sigma (0.001, 0.01): 30.068821569195254\n",
      "MAPE terbaik untuk rentang sigma (0.001, 0.1): 27.832971116184442\n",
      "MAPE terbaik untuk rentang sigma (0.005, 0.01): 26.67891392700586\n",
      "MAPE terbaik untuk rentang sigma (0.005, 0.1): 29.937324327839672\n",
      "MAPE terbaik untuk rentang sigma (0.01, 0.1): 26.897973424587267\n",
      "MAPE terbaik untuk rentang sigma (0.01, 1): 27.787458615952236\n",
      "MAPE terbaik untuk rentang sigma (0.05, 0.1): 28.67244534772444\n",
      "MAPE terbaik untuk rentang sigma (0.05, 1): 29.21606652911403\n",
      "MAPE terbaik untuk rentang sigma (0.1, 1): 30.07840079975522\n",
      "MAPE terbaik untuk rentang sigma (0.1, 5): 26.773319051221268\n",
      "MAPE terbaik untuk rentang sigma (0.5, 1): 27.4978755207751\n",
      "MAPE terbaik untuk rentang sigma (0.5, 5): 27.962347227717387\n",
      "\n",
      "Kombinasi sigma terbaik:\n",
      "Rentang sigma: (0.005, 0.01)\n",
      "MAPE terbaik: 26.67891392700586\n"
     ]
    }
   ],
   "source": [
    "# Rentang nilai sigma yang akan diuji\n",
    "sigma_ranges = [(0.001, 0.01), (0.001, 0.1), (0.005, 0.01), (0.005, 0.1), (0.01, 0.1), (0.01, 1), (0.05,0.1), (0.05, 1), (0.1, 1), (0.1, 5), (0.5, 1), (0.5, 5)]\n",
    "crossover_rate = 1  # Tetapkan tingkat crossover tetap untuk eksperimen\n",
    "mutation_rate = 0  # Tetapkan tingkat mutasi tetap untuk eksperimen\n",
    "num_generations = 250  # Tetapkan jumlah generasi tetap untuk eksperimen\n",
    "parameter_ranges = [(0.0001, 50), (1e-07, 5), (1e-07, 5)]\n",
    "\n",
    "results = []\n",
    "\n",
    "# Evaluasi kombinasi sigma yang diminta\n",
    "for sigma_range in sigma_ranges:\n",
    "    parameter_ranges = [(sigma_range[0], 50), (1e-07, 5), (1e-07, 5)]\n",
    "    population_size = 70  # Ukuran populasi tetap\n",
    "\n",
    "    population = initialize_population(population_size, parameter_ranges)\n",
    "\n",
    "    for generation in range(num_generations):\n",
    "        selected_population = selection(population, X_train, y_train, X_val, y_val)\n",
    "        new_population = crossover(selected_population)\n",
    "        new_population = mutation(new_population, mutation_rate, parameter_ranges)\n",
    "\n",
    "        # Pastikan ukuran populasi tetap\n",
    "        if len(new_population) < population_size:\n",
    "            additional_individuals = initialize_population(population_size - len(new_population), parameter_ranges)\n",
    "            new_population.extend(additional_individuals)\n",
    "        elif len(new_population) > population_size:\n",
    "            new_population = new_population[:population_size]\n",
    "\n",
    "        assert len(new_population) == population_size, \"Ukuran populasi baru tidak sesuai\"\n",
    "\n",
    "        population = new_population\n",
    "\n",
    "    # Ambil individu terbaik (dengan MAPE terendah) dari populasi terakhir\n",
    "    best_chromosome, best_population_mape = min(selected_population, key=lambda x: x[1])\n",
    "    results.append((sigma_range, best_population_mape))\n",
    "\n",
    "    print(f\"MAPE terbaik untuk rentang sigma {sigma_range}: {best_population_mape}\")\n",
    "\n",
    "# Tampilkan hasil terbaik\n",
    "best_result = min(results, key=lambda x: x[1])\n",
    "print(f\"\\nKombinasi sigma terbaik:\")\n",
    "print(f\"Rentang sigma: {best_result[0]}\")\n",
    "print(f\"MAPE terbaik: {best_result[1]}\")"
   ]
  },
  {
   "cell_type": "code",
   "execution_count": 6,
   "id": "4b3a583b-9e93-4951-b7e3-8c73c8f89a65",
   "metadata": {},
   "outputs": [
    {
     "data": {
      "image/png": "[encoded data removed]",
      "text/plain": [
       "<Figure size 640x480 with 1 Axes>"
      ]
     },
     "metadata": {},
     "output_type": "display_data"
    }
   ],
   "source": [
    "# Plot hasil\n",
    "fig, ax = plt.subplots()\n",
    "sigma_ranges_str = [f\"{r[0]}-{r[1]}\" for r in sigma_ranges]\n",
    "mapes = [r[1] for r in results]\n",
    "ax.plot(sigma_ranges_str, mapes, marker='o')\n",
    "ax.set_xlabel('Sigma Range')\n",
    "ax.set_ylabel('MAPE')\n",
    "ax.set_title('MAPE vs Sigma Range')\n",
    "plt.grid(True)\n",
    "plt.xticks(rotation=45)\n",
    "plt.show()"
   ]
  },
  {
   "cell_type": "code",
   "execution_count": null,
   "id": "4b66f2a0-31b6-4c23-b6c4-c3a01f6fe68d",
   "metadata": {},
   "outputs": [],
   "source": []
  },
  {
   "cell_type": "code",
   "execution_count": null,
   "id": "a3a3fed0-dfdf-411e-bc50-5df019316c4b",
   "metadata": {},
   "outputs": [],
   "source": []
  },
  {
   "cell_type": "code",
   "execution_count": null,
   "id": "437987d9-c8c0-4edf-84f0-91fe71af8937",
   "metadata": {},
   "outputs": [],
   "source": []
  },
  {
   "cell_type": "code",
   "execution_count": 5,
   "id": "51b67db3-786e-484d-9fef-bd7afffecb49",
   "metadata": {},
   "outputs": [
    {
     "ename": "IndexError",
     "evalue": "sigma must be at least the size of individual: 2 < 3",
     "output_type": "error",
     "traceback": [
      "\u001b[1;31m---------------------------------------------------------------------------\u001b[0m",
      "\u001b[1;31mIndexError\u001b[0m                                Traceback (most recent call last)",
      "Cell \u001b[1;32mIn[5], line 19\u001b[0m\n\u001b[0;32m     16\u001b[0m population \u001b[38;5;241m=\u001b[39m toolbox\u001b[38;5;241m.\u001b[39mpopulation(n\u001b[38;5;241m=\u001b[39mpopulation_size)\n\u001b[0;32m     18\u001b[0m \u001b[38;5;28;01mfor\u001b[39;00m gen \u001b[38;5;129;01min\u001b[39;00m \u001b[38;5;28mrange\u001b[39m(generations):\n\u001b[1;32m---> 19\u001b[0m     offspring \u001b[38;5;241m=\u001b[39m \u001b[43malgorithms\u001b[49m\u001b[38;5;241;43m.\u001b[39;49m\u001b[43mvarAnd\u001b[49m\u001b[43m(\u001b[49m\u001b[43mpopulation\u001b[49m\u001b[43m,\u001b[49m\u001b[43m \u001b[49m\u001b[43mtoolbox\u001b[49m\u001b[43m,\u001b[49m\u001b[43m \u001b[49m\u001b[43mcxpb\u001b[49m\u001b[38;5;241;43m=\u001b[39;49m\u001b[43mcrossover_rate\u001b[49m\u001b[43m,\u001b[49m\u001b[43m \u001b[49m\u001b[43mmutpb\u001b[49m\u001b[38;5;241;43m=\u001b[39;49m\u001b[43mmutation_rate\u001b[49m\u001b[43m)\u001b[49m\n\u001b[0;32m     20\u001b[0m     fits \u001b[38;5;241m=\u001b[39m toolbox\u001b[38;5;241m.\u001b[39mmap(toolbox\u001b[38;5;241m.\u001b[39mevaluate, offspring)\n\u001b[0;32m     21\u001b[0m     \u001b[38;5;28;01mfor\u001b[39;00m fit, ind \u001b[38;5;129;01min\u001b[39;00m \u001b[38;5;28mzip\u001b[39m(fits, offspring):\n",
      "File \u001b[1;32m~\\AppData\\Local\\Programs\\Python\\Python312\\Lib\\site-packages\\deap\\algorithms.py:79\u001b[0m, in \u001b[0;36mvarAnd\u001b[1;34m(population, toolbox, cxpb, mutpb)\u001b[0m\n\u001b[0;32m     77\u001b[0m \u001b[38;5;28;01mfor\u001b[39;00m i \u001b[38;5;129;01min\u001b[39;00m \u001b[38;5;28mrange\u001b[39m(\u001b[38;5;28mlen\u001b[39m(offspring)):\n\u001b[0;32m     78\u001b[0m     \u001b[38;5;28;01mif\u001b[39;00m random\u001b[38;5;241m.\u001b[39mrandom() \u001b[38;5;241m<\u001b[39m mutpb:\n\u001b[1;32m---> 79\u001b[0m         offspring[i], \u001b[38;5;241m=\u001b[39m \u001b[43mtoolbox\u001b[49m\u001b[38;5;241;43m.\u001b[39;49m\u001b[43mmutate\u001b[49m\u001b[43m(\u001b[49m\u001b[43moffspring\u001b[49m\u001b[43m[\u001b[49m\u001b[43mi\u001b[49m\u001b[43m]\u001b[49m\u001b[43m)\u001b[49m\n\u001b[0;32m     80\u001b[0m         \u001b[38;5;28;01mdel\u001b[39;00m offspring[i]\u001b[38;5;241m.\u001b[39mfitness\u001b[38;5;241m.\u001b[39mvalues\n\u001b[0;32m     82\u001b[0m \u001b[38;5;28;01mreturn\u001b[39;00m offspring\n",
      "File \u001b[1;32m~\\AppData\\Local\\Programs\\Python\\Python312\\Lib\\site-packages\\deap\\tools\\mutation.py:41\u001b[0m, in \u001b[0;36mmutGaussian\u001b[1;34m(individual, mu, sigma, indpb)\u001b[0m\n\u001b[0;32m     39\u001b[0m     sigma \u001b[38;5;241m=\u001b[39m repeat(sigma, size)\n\u001b[0;32m     40\u001b[0m \u001b[38;5;28;01melif\u001b[39;00m \u001b[38;5;28mlen\u001b[39m(sigma) \u001b[38;5;241m<\u001b[39m size:\n\u001b[1;32m---> 41\u001b[0m     \u001b[38;5;28;01mraise\u001b[39;00m \u001b[38;5;167;01mIndexError\u001b[39;00m(\u001b[38;5;124m\"\u001b[39m\u001b[38;5;124msigma must be at least the size of individual: \u001b[39m\u001b[38;5;132;01m%d\u001b[39;00m\u001b[38;5;124m < \u001b[39m\u001b[38;5;132;01m%d\u001b[39;00m\u001b[38;5;124m\"\u001b[39m \u001b[38;5;241m%\u001b[39m (\u001b[38;5;28mlen\u001b[39m(sigma), size))\n\u001b[0;32m     43\u001b[0m \u001b[38;5;28;01mfor\u001b[39;00m i, m, s \u001b[38;5;129;01min\u001b[39;00m \u001b[38;5;28mzip\u001b[39m(\u001b[38;5;28mrange\u001b[39m(size), mu, sigma):\n\u001b[0;32m     44\u001b[0m     \u001b[38;5;28;01mif\u001b[39;00m random\u001b[38;5;241m.\u001b[39mrandom() \u001b[38;5;241m<\u001b[39m indpb:\n",
      "\u001b[1;31mIndexError\u001b[0m: sigma must be at least the size of individual: 2 < 3"
     ]
    }
   ],
   "source": [
    "# Rentang nilai sigma yang akan diuji\n",
    "sigma_ranges = [(0.001, 0.01), (0.001, 0.1), (0.005, 0.01), (0.005, 0.1), (0.01, 0.1), (0.01, 1), (0.05,0.1), (0.05, 1), (0.1, 1), (0.1, 5), (0.5, 1), (0.5, 5)]\n",
    "crossover_rate = 0.4  # Tetapkan tingkat crossover tetap untuk eksperimen\n",
    "mutation_rate = 0.4  # Tetapkan tingkat mutasi tetap untuk eksperimen\n",
    "generations = 75  # Tetapkan jumlah generasi tetap untuk eksperimen\n",
    "population_size = 100  # Tetapkan ukuran populasi tetap untuk eksperimen\n",
    "\n",
    "results = []\n",
    "\n",
    "for sigma_range in sigma_ranges:\n",
    "    sigma_start, sigma_end = sigma_range\n",
    "    #sigma = random.uniform(sigma_start, sigma_end)\n",
    "    \n",
    "    toolbox.unregister(\"mutate\")\n",
    "    toolbox.register(\"mutate\", tools.mutGaussian, mu=0, sigma=sigma_range, indpb=0.1)\n",
    "    population = toolbox.population(n=population_size)\n",
    "        \n",
    "    for gen in range(generations):\n",
    "        offspring = algorithms.varAnd(population, toolbox, cxpb=crossover_rate, mutpb=mutation_rate)\n",
    "        fits = toolbox.map(toolbox.evaluate, offspring)\n",
    "        for fit, ind in zip(fits, offspring):\n",
    "            ind.fitness.values = fit\n",
    "\n",
    "        population[:] = toolbox.select(offspring, k=len(population))\n",
    "\n",
    "    # Jalankan algoritma evolusi dengan rentang sigma tertentu\n",
    "    best_ind = tools.selBest(population, 1)[0]\n",
    "    best_mape = best_ind.fitness.values[0]\n",
    "    best_gamma = best_ind[0]\n",
    "    best_C = best_ind[1]\n",
    "    best_epsilon = best_ind[2]\n",
    "    best_model = SVR(gamma=best_gamma, C=best_C, epsilon=best_epsilon)\n",
    "    best_model.fit(X_train, y_train)\n",
    "    best_predictions = best_model.predict(X_test)\n",
    "    best_mape = mean_absolute_percentage_error(y_test, best_predictions)\n",
    "    results.append((sigma_range, best_mape))\n",
    "    print(f\"Sigma range: {sigma_range}, Best gamma : {best_gamma}, Best C : {best_C}, Best epsilon : {best_epsilon}, MAPE: {best_mape}\")"
   ]
  },
  {
   "cell_type": "code",
   "execution_count": null,
   "id": "556598e5-49b8-485d-bc7a-3c95a26b4914",
   "metadata": {},
   "outputs": [],
   "source": []
  },
  {
   "cell_type": "code",
   "execution_count": null,
   "id": "f94b575b-a273-46cc-9814-b2b46bffd935",
   "metadata": {},
   "outputs": [],
   "source": []
  },
  {
   "cell_type": "code",
   "execution_count": null,
   "id": "c0a2ae46-f742-4dc4-9faa-d52bdaea9783",
   "metadata": {},
   "outputs": [],
   "source": []
  },
  {
   "cell_type": "code",
   "execution_count": 5,
   "id": "30f6fbf3-89c9-4e2e-9d20-e12a86229ded",
   "metadata": {},
   "outputs": [
    {
     "ename": "TypeError",
     "evalue": "custom_mutate() got an unexpected keyword argument 'sigma_range'",
     "output_type": "error",
     "traceback": [
      "\u001b[1;31m---------------------------------------------------------------------------\u001b[0m",
      "\u001b[1;31mTypeError\u001b[0m                                 Traceback (most recent call last)",
      "Cell \u001b[1;32mIn[5], line 55\u001b[0m\n\u001b[0;32m     52\u001b[0m     \u001b[38;5;28;01mreturn\u001b[39;00m population, logbook\n\u001b[0;32m     54\u001b[0m \u001b[38;5;66;03m# Jalankan algoritma evolusi dengan rentang sigma tertentu\u001b[39;00m\n\u001b[1;32m---> 55\u001b[0m \u001b[43mea_with_sigma\u001b[49m\u001b[43m(\u001b[49m\u001b[43mpopulation\u001b[49m\u001b[43m,\u001b[49m\u001b[43m \u001b[49m\u001b[43mtoolbox\u001b[49m\u001b[43m,\u001b[49m\u001b[43m \u001b[49m\u001b[43mcxpb\u001b[49m\u001b[38;5;241;43m=\u001b[39;49m\u001b[43mcrossover_rate\u001b[49m\u001b[43m,\u001b[49m\u001b[43m \u001b[49m\u001b[43mmutpb\u001b[49m\u001b[38;5;241;43m=\u001b[39;49m\u001b[43mmutation_rate\u001b[49m\u001b[43m,\u001b[49m\u001b[43m \u001b[49m\u001b[43mngen\u001b[49m\u001b[38;5;241;43m=\u001b[39;49m\u001b[43mgenerations\u001b[49m\u001b[43m,\u001b[49m\u001b[43m \u001b[49m\u001b[43msigma_range\u001b[49m\u001b[38;5;241;43m=\u001b[39;49m\u001b[43msigma_range\u001b[49m\u001b[43m,\u001b[49m\u001b[43m \u001b[49m\u001b[43mverbose\u001b[49m\u001b[38;5;241;43m=\u001b[39;49m\u001b[38;5;28;43;01mFalse\u001b[39;49;00m\u001b[43m)\u001b[49m\n\u001b[0;32m     56\u001b[0m best_ind \u001b[38;5;241m=\u001b[39m tools\u001b[38;5;241m.\u001b[39mselBest(population, \u001b[38;5;241m1\u001b[39m)[\u001b[38;5;241m0\u001b[39m]\n\u001b[0;32m     57\u001b[0m best_mape \u001b[38;5;241m=\u001b[39m best_ind\u001b[38;5;241m.\u001b[39mfitness\u001b[38;5;241m.\u001b[39mvalues[\u001b[38;5;241m0\u001b[39m]\n",
      "Cell \u001b[1;32mIn[5], line 39\u001b[0m, in \u001b[0;36mea_with_sigma\u001b[1;34m(population, toolbox, cxpb, mutpb, ngen, sigma_range, stats, halloffame, verbose)\u001b[0m\n\u001b[0;32m     37\u001b[0m \u001b[38;5;28;01mfor\u001b[39;00m mutant \u001b[38;5;129;01min\u001b[39;00m offspring:\n\u001b[0;32m     38\u001b[0m     \u001b[38;5;28;01mif\u001b[39;00m np\u001b[38;5;241m.\u001b[39mrandom\u001b[38;5;241m.\u001b[39mrandom() \u001b[38;5;241m<\u001b[39m mutpb:\n\u001b[1;32m---> 39\u001b[0m         \u001b[43mtoolbox\u001b[49m\u001b[38;5;241;43m.\u001b[39;49m\u001b[43mmutate\u001b[49m\u001b[43m(\u001b[49m\u001b[43mmutant\u001b[49m\u001b[43m,\u001b[49m\u001b[43m \u001b[49m\u001b[43msigma_range\u001b[49m\u001b[38;5;241;43m=\u001b[39;49m\u001b[43msigma_range\u001b[49m\u001b[43m)\u001b[49m\n\u001b[0;32m     40\u001b[0m         \u001b[38;5;28;01mdel\u001b[39;00m mutant\u001b[38;5;241m.\u001b[39mfitness\u001b[38;5;241m.\u001b[39mvalues\n\u001b[0;32m     41\u001b[0m invalid_ind \u001b[38;5;241m=\u001b[39m [ind \u001b[38;5;28;01mfor\u001b[39;00m ind \u001b[38;5;129;01min\u001b[39;00m offspring \u001b[38;5;28;01mif\u001b[39;00m \u001b[38;5;129;01mnot\u001b[39;00m ind\u001b[38;5;241m.\u001b[39mfitness\u001b[38;5;241m.\u001b[39mvalid]\n",
      "\u001b[1;31mTypeError\u001b[0m: custom_mutate() got an unexpected keyword argument 'sigma_range'"
     ]
    }
   ],
   "source": [
    "# Rentang nilai sigma yang akan diuji\n",
    "sigma_ranges = [(0.001, 0.01), (0.001, 0.1), (0.005, 0.01), (0.005, 0.1), (0.01, 0.1), (0.01, 1), (0.05,0.1), (0.05, 1), (0.1, 1), (0.1, 5), (0.5, 1), (0.5, 5)]\n",
    "crossover_rate = 0.4  # Tetapkan tingkat crossover tetap untuk eksperimen\n",
    "mutation_rate = 0.4  # Tetapkan tingkat mutasi tetap untuk eksperimen\n",
    "generations = 75  # Tetapkan jumlah generasi tetap untuk eksperimen\n",
    "population_size = 100  # Tetapkan ukuran populasi tetap untuk eksperimen\n",
    "\n",
    "results = []\n",
    "\n",
    "for sigma_range in sigma_ranges:\n",
    "    population = toolbox.population(n=population_size)\n",
    "    \n",
    "    # Algoritma evolusi kustom untuk menyertakan sigma dalam mutasi\n",
    "    def ea_with_sigma(population, toolbox, cxpb, mutpb, ngen, sigma_range, stats=None, halloffame=None, verbose=__debug__):\n",
    "        logbook = tools.Logbook()\n",
    "        logbook.header = ['gen', 'nevals'] + (stats.fields if stats else [])\n",
    "        \n",
    "        invalid_ind = [ind for ind in population if not ind.fitness.valid]\n",
    "        fitnesses = list(map(toolbox.evaluate, invalid_ind))\n",
    "        for ind, fit in zip(invalid_ind, fitnesses):\n",
    "            ind.fitness.values = fit\n",
    "        if halloffame is not None:\n",
    "            halloffame.update(population)\n",
    "        record = stats.compile(population) if stats else {}\n",
    "        logbook.record(gen=0, nevals=len(invalid_ind), **record)\n",
    "        if verbose:\n",
    "            print(logbook.stream)\n",
    "        \n",
    "        for gen in range(1, ngen + 1):\n",
    "            offspring = toolbox.select(population, len(population))\n",
    "            offspring = list(map(toolbox.clone, offspring))\n",
    "            for child1, child2 in zip(offspring[::2], offspring[1::2]):\n",
    "                if np.random.random() < cxpb:\n",
    "                    toolbox.mate(child1, child2)\n",
    "                    del child1.fitness.values\n",
    "                    del child2.fitness.values\n",
    "            for mutant in offspring:\n",
    "                if np.random.random() < mutpb:\n",
    "                    toolbox.mutate(mutant, sigma_range=sigma_range)\n",
    "                    del mutant.fitness.values\n",
    "            invalid_ind = [ind for ind in offspring if not ind.fitness.valid]\n",
    "            fitnesses = map(toolbox.evaluate, invalid_ind)\n",
    "            for ind, fit in zip(invalid_ind, fitnesses):\n",
    "                ind.fitness.values = fit\n",
    "            if halloffame is not None:\n",
    "                halloffame.update(offspring)\n",
    "            population[:] = offspring\n",
    "            record = stats.compile(population) if stats else {}\n",
    "            logbook.record(gen=gen, nevals=len(invalid_ind), **record)\n",
    "            if verbose:\n",
    "                print(logbook.stream)\n",
    "        return population, logbook\n",
    "\n",
    "    # Jalankan algoritma evolusi dengan rentang sigma tertentu\n",
    "    ea_with_sigma(population, toolbox, cxpb=crossover_rate, mutpb=mutation_rate, ngen=generations, sigma_range=sigma_range, verbose=False)\n",
    "    best_individual = tools.selBest(population, 1)[0]\n",
    "    best_C = best_individual[0]\n",
    "    best_model = SVR(C=best_C)\n",
    "    best_model.fit(X_train, y_train)\n",
    "    best_predictions = best_model.predict(X_test)\n",
    "    best_mape = mean_absolute_percentage_error(y_test, best_predictions)\n",
    "    results.append((sigma_range, best_mape))\n",
    "    print(f\"Sigma range: {sigma_range}, Best parameter C: {best_C}, MAPE: {best_mape}\")"
   ]
  },
  {
   "cell_type": "code",
   "execution_count": null,
   "id": "8376b2fd-2690-4b81-a0b7-8f1054bd104f",
   "metadata": {},
   "outputs": [],
   "source": []
  },
  {
   "cell_type": "code",
   "execution_count": null,
   "id": "7c9cd893-b6e7-4756-9f0e-a761243b7072",
   "metadata": {},
   "outputs": [],
   "source": []
  },
  {
   "cell_type": "code",
   "execution_count": null,
   "id": "3093c32c-3cae-4dc0-8343-7f9cd37f7eb6",
   "metadata": {},
   "outputs": [],
   "source": []
  },
  {
   "cell_type": "code",
   "execution_count": 6,
   "id": "ae55244f-1eec-4eea-bf71-b63be32c0f32",
   "metadata": {},
   "outputs": [
    {
     "ename": "InvalidParameterError",
     "evalue": "The 'C' parameter of SVR must be a float in the range (0.0, inf). Got -112.14608452764202 instead.",
     "output_type": "error",
     "traceback": [
      "\u001b[1;31m---------------------------------------------------------------------------\u001b[0m",
      "\u001b[1;31mInvalidParameterError\u001b[0m                     Traceback (most recent call last)",
      "Cell \u001b[1;32mIn[6], line 25\u001b[0m\n\u001b[0;32m     23\u001b[0m offspring \u001b[38;5;241m=\u001b[39m algorithms\u001b[38;5;241m.\u001b[39mvarAnd(pop, toolbox, cxpb\u001b[38;5;241m=\u001b[39mcross_prob, mutpb\u001b[38;5;241m=\u001b[39mmut_prob)\n\u001b[0;32m     24\u001b[0m fits \u001b[38;5;241m=\u001b[39m toolbox\u001b[38;5;241m.\u001b[39mmap(toolbox\u001b[38;5;241m.\u001b[39mevaluate, offspring)\n\u001b[1;32m---> 25\u001b[0m \u001b[43m\u001b[49m\u001b[38;5;28;43;01mfor\u001b[39;49;00m\u001b[43m \u001b[49m\u001b[43mfit\u001b[49m\u001b[43m,\u001b[49m\u001b[43m \u001b[49m\u001b[43mind\u001b[49m\u001b[43m \u001b[49m\u001b[38;5;129;43;01min\u001b[39;49;00m\u001b[43m \u001b[49m\u001b[38;5;28;43mzip\u001b[39;49m\u001b[43m(\u001b[49m\u001b[43mfits\u001b[49m\u001b[43m,\u001b[49m\u001b[43m \u001b[49m\u001b[43moffspring\u001b[49m\u001b[43m)\u001b[49m\u001b[43m:\u001b[49m\n\u001b[0;32m     26\u001b[0m \u001b[43m    \u001b[49m\u001b[43mind\u001b[49m\u001b[38;5;241;43m.\u001b[39;49m\u001b[43mfitness\u001b[49m\u001b[38;5;241;43m.\u001b[39;49m\u001b[43mvalues\u001b[49m\u001b[43m \u001b[49m\u001b[38;5;241;43m=\u001b[39;49m\u001b[43m \u001b[49m\u001b[43mfit\u001b[49m\n\u001b[0;32m     27\u001b[0m pop \u001b[38;5;241m=\u001b[39m toolbox\u001b[38;5;241m.\u001b[39mselect(offspring, k\u001b[38;5;241m=\u001b[39m\u001b[38;5;28mlen\u001b[39m(pop))\n",
      "Cell \u001b[1;32mIn[5], line 5\u001b[0m, in \u001b[0;36mevaluate\u001b[1;34m(individual)\u001b[0m\n\u001b[0;32m      3\u001b[0m C \u001b[38;5;241m=\u001b[39m individual[\u001b[38;5;241m0\u001b[39m]\n\u001b[0;32m      4\u001b[0m svr \u001b[38;5;241m=\u001b[39m SVR(C\u001b[38;5;241m=\u001b[39mC)\n\u001b[1;32m----> 5\u001b[0m \u001b[43msvr\u001b[49m\u001b[38;5;241;43m.\u001b[39;49m\u001b[43mfit\u001b[49m\u001b[43m(\u001b[49m\u001b[43mX_train\u001b[49m\u001b[43m,\u001b[49m\u001b[43m \u001b[49m\u001b[43my_train\u001b[49m\u001b[43m)\u001b[49m\n\u001b[0;32m      6\u001b[0m pred \u001b[38;5;241m=\u001b[39m svr\u001b[38;5;241m.\u001b[39mpredict(X_test)\n\u001b[0;32m      7\u001b[0m mape \u001b[38;5;241m=\u001b[39m mean_absolute_percentage_error(y_test, pred)\n",
      "File \u001b[1;32m~\\AppData\\Roaming\\Python\\Python312\\site-packages\\sklearn\\base.py:1466\u001b[0m, in \u001b[0;36m_fit_context.<locals>.decorator.<locals>.wrapper\u001b[1;34m(estimator, *args, **kwargs)\u001b[0m\n\u001b[0;32m   1461\u001b[0m partial_fit_and_fitted \u001b[38;5;241m=\u001b[39m (\n\u001b[0;32m   1462\u001b[0m     fit_method\u001b[38;5;241m.\u001b[39m\u001b[38;5;18m__name__\u001b[39m \u001b[38;5;241m==\u001b[39m \u001b[38;5;124m\"\u001b[39m\u001b[38;5;124mpartial_fit\u001b[39m\u001b[38;5;124m\"\u001b[39m \u001b[38;5;129;01mand\u001b[39;00m _is_fitted(estimator)\n\u001b[0;32m   1463\u001b[0m )\n\u001b[0;32m   1465\u001b[0m \u001b[38;5;28;01mif\u001b[39;00m \u001b[38;5;129;01mnot\u001b[39;00m global_skip_validation \u001b[38;5;129;01mand\u001b[39;00m \u001b[38;5;129;01mnot\u001b[39;00m partial_fit_and_fitted:\n\u001b[1;32m-> 1466\u001b[0m     \u001b[43mestimator\u001b[49m\u001b[38;5;241;43m.\u001b[39;49m\u001b[43m_validate_params\u001b[49m\u001b[43m(\u001b[49m\u001b[43m)\u001b[49m\n\u001b[0;32m   1468\u001b[0m \u001b[38;5;28;01mwith\u001b[39;00m config_context(\n\u001b[0;32m   1469\u001b[0m     skip_parameter_validation\u001b[38;5;241m=\u001b[39m(\n\u001b[0;32m   1470\u001b[0m         prefer_skip_nested_validation \u001b[38;5;129;01mor\u001b[39;00m global_skip_validation\n\u001b[0;32m   1471\u001b[0m     )\n\u001b[0;32m   1472\u001b[0m ):\n\u001b[0;32m   1473\u001b[0m     \u001b[38;5;28;01mreturn\u001b[39;00m fit_method(estimator, \u001b[38;5;241m*\u001b[39margs, \u001b[38;5;241m*\u001b[39m\u001b[38;5;241m*\u001b[39mkwargs)\n",
      "File \u001b[1;32m~\\AppData\\Roaming\\Python\\Python312\\site-packages\\sklearn\\base.py:666\u001b[0m, in \u001b[0;36mBaseEstimator._validate_params\u001b[1;34m(self)\u001b[0m\n\u001b[0;32m    658\u001b[0m \u001b[38;5;28;01mdef\u001b[39;00m \u001b[38;5;21m_validate_params\u001b[39m(\u001b[38;5;28mself\u001b[39m):\n\u001b[0;32m    659\u001b[0m \u001b[38;5;250m    \u001b[39m\u001b[38;5;124;03m\"\"\"Validate types and values of constructor parameters\u001b[39;00m\n\u001b[0;32m    660\u001b[0m \n\u001b[0;32m    661\u001b[0m \u001b[38;5;124;03m    The expected type and values must be defined in the `_parameter_constraints`\u001b[39;00m\n\u001b[1;32m   (...)\u001b[0m\n\u001b[0;32m    664\u001b[0m \u001b[38;5;124;03m    accepted constraints.\u001b[39;00m\n\u001b[0;32m    665\u001b[0m \u001b[38;5;124;03m    \"\"\"\u001b[39;00m\n\u001b[1;32m--> 666\u001b[0m     \u001b[43mvalidate_parameter_constraints\u001b[49m\u001b[43m(\u001b[49m\n\u001b[0;32m    667\u001b[0m \u001b[43m        \u001b[49m\u001b[38;5;28;43mself\u001b[39;49m\u001b[38;5;241;43m.\u001b[39;49m\u001b[43m_parameter_constraints\u001b[49m\u001b[43m,\u001b[49m\n\u001b[0;32m    668\u001b[0m \u001b[43m        \u001b[49m\u001b[38;5;28;43mself\u001b[39;49m\u001b[38;5;241;43m.\u001b[39;49m\u001b[43mget_params\u001b[49m\u001b[43m(\u001b[49m\u001b[43mdeep\u001b[49m\u001b[38;5;241;43m=\u001b[39;49m\u001b[38;5;28;43;01mFalse\u001b[39;49;00m\u001b[43m)\u001b[49m\u001b[43m,\u001b[49m\n\u001b[0;32m    669\u001b[0m \u001b[43m        \u001b[49m\u001b[43mcaller_name\u001b[49m\u001b[38;5;241;43m=\u001b[39;49m\u001b[38;5;28;43mself\u001b[39;49m\u001b[38;5;241;43m.\u001b[39;49m\u001b[38;5;18;43m__class__\u001b[39;49m\u001b[38;5;241;43m.\u001b[39;49m\u001b[38;5;18;43m__name__\u001b[39;49m\u001b[43m,\u001b[49m\n\u001b[0;32m    670\u001b[0m \u001b[43m    \u001b[49m\u001b[43m)\u001b[49m\n",
      "File \u001b[1;32m~\\AppData\\Roaming\\Python\\Python312\\site-packages\\sklearn\\utils\\_param_validation.py:95\u001b[0m, in \u001b[0;36mvalidate_parameter_constraints\u001b[1;34m(parameter_constraints, params, caller_name)\u001b[0m\n\u001b[0;32m     89\u001b[0m \u001b[38;5;28;01melse\u001b[39;00m:\n\u001b[0;32m     90\u001b[0m     constraints_str \u001b[38;5;241m=\u001b[39m (\n\u001b[0;32m     91\u001b[0m         \u001b[38;5;124mf\u001b[39m\u001b[38;5;124m\"\u001b[39m\u001b[38;5;132;01m{\u001b[39;00m\u001b[38;5;124m'\u001b[39m\u001b[38;5;124m, \u001b[39m\u001b[38;5;124m'\u001b[39m\u001b[38;5;241m.\u001b[39mjoin([\u001b[38;5;28mstr\u001b[39m(c)\u001b[38;5;250m \u001b[39m\u001b[38;5;28;01mfor\u001b[39;00m\u001b[38;5;250m \u001b[39mc\u001b[38;5;250m \u001b[39m\u001b[38;5;129;01min\u001b[39;00m\u001b[38;5;250m \u001b[39mconstraints[:\u001b[38;5;241m-\u001b[39m\u001b[38;5;241m1\u001b[39m]])\u001b[38;5;132;01m}\u001b[39;00m\u001b[38;5;124m or\u001b[39m\u001b[38;5;124m\"\u001b[39m\n\u001b[0;32m     92\u001b[0m         \u001b[38;5;124mf\u001b[39m\u001b[38;5;124m\"\u001b[39m\u001b[38;5;124m \u001b[39m\u001b[38;5;132;01m{\u001b[39;00mconstraints[\u001b[38;5;241m-\u001b[39m\u001b[38;5;241m1\u001b[39m]\u001b[38;5;132;01m}\u001b[39;00m\u001b[38;5;124m\"\u001b[39m\n\u001b[0;32m     93\u001b[0m     )\n\u001b[1;32m---> 95\u001b[0m \u001b[38;5;28;01mraise\u001b[39;00m InvalidParameterError(\n\u001b[0;32m     96\u001b[0m     \u001b[38;5;124mf\u001b[39m\u001b[38;5;124m\"\u001b[39m\u001b[38;5;124mThe \u001b[39m\u001b[38;5;132;01m{\u001b[39;00mparam_name\u001b[38;5;132;01m!r}\u001b[39;00m\u001b[38;5;124m parameter of \u001b[39m\u001b[38;5;132;01m{\u001b[39;00mcaller_name\u001b[38;5;132;01m}\u001b[39;00m\u001b[38;5;124m must be\u001b[39m\u001b[38;5;124m\"\u001b[39m\n\u001b[0;32m     97\u001b[0m     \u001b[38;5;124mf\u001b[39m\u001b[38;5;124m\"\u001b[39m\u001b[38;5;124m \u001b[39m\u001b[38;5;132;01m{\u001b[39;00mconstraints_str\u001b[38;5;132;01m}\u001b[39;00m\u001b[38;5;124m. Got \u001b[39m\u001b[38;5;132;01m{\u001b[39;00mparam_val\u001b[38;5;132;01m!r}\u001b[39;00m\u001b[38;5;124m instead.\u001b[39m\u001b[38;5;124m\"\u001b[39m\n\u001b[0;32m     98\u001b[0m )\n",
      "\u001b[1;31mInvalidParameterError\u001b[0m: The 'C' parameter of SVR must be a float in the range (0.0, inf). Got -112.14608452764202 instead."
     ]
    }
   ],
   "source": [
    "#population = toolbox.population(n=50)\n",
    "#ngen = 10\n",
    "#cxpb = 0.6\n",
    "#mutpb = 0.1\n",
    "#hof = tools.HallOfFame(1)\n",
    "#stats = tools.Statistics(lambda ind: ind.fitness.values)\n",
    "#stats.register(\"avg\", np.mean)\n",
    "#stats.register(\"min\", np.min)\n",
    "#stats.register(\"max\", np.max)\n",
    "\n",
    "pop_size = 50\n",
    "generation = 40\n",
    "cross_prob = 0.5\n",
    "mut_prob = 0.1\n",
    "\n",
    "pop = toolbox.population(n=pop_size)\n",
    "\n",
    "fitnesses = list(map(toolbox.evaluate, pop))\n",
    "for ind, fit in zip(pop, fitnesses):\n",
    "    ind.fitness.values = fit\n",
    "\n",
    "for _ in range (generation):\n",
    "    offspring = algorithms.varAnd(pop, toolbox, cxpb=cross_prob, mutpb=mut_prob)\n",
    "    fits = toolbox.map(toolbox.evaluate, offspring)\n",
    "    for fit, ind in zip(fits, offspring):\n",
    "        ind.fitness.values = fit\n",
    "    pop = toolbox.select(offspring, k=len(pop))\n",
    "\n",
    "best_individual = tools.selBest(pop, k=1)[0]\n",
    "best_C = best_individual[0]\n",
    "print(f\"Best Parameter C:{best_C}\")\n",
    "\n",
    "# Jalankan algoritma genetika\n",
    "#population, logbook = algorithms.eaSimple(population, toolbox, cxpb, mutpb, ngen, stats, halloffame=hof, verbose=True)\n",
    "\n",
    "# Ambil hasil terbaik\n",
    "#best_individual = tools.selBest(population, k=1)[0]\n",
    "#print('Best Individual: ', best_individual)"
   ]
  },
  {
   "cell_type": "code",
   "execution_count": null,
   "id": "1fe52ba3-6ac9-4c5f-b899-68d27f4a2c81",
   "metadata": {},
   "outputs": [],
   "source": [
    "best_model = SVR(C=best_C)\n",
    "best_model.fit(X_train, y_train)\n",
    "best_pred = best_model.predict(X_test)"
   ]
  },
  {
   "cell_type": "code",
   "execution_count": null,
   "id": "63fbd86e-1b1f-4c12-a327-68710b488c3b",
   "metadata": {},
   "outputs": [],
   "source": [
    "best_mape = mean_absolute_percentage_error(y_test, best_pred)\n",
    "print(f\"MAPE terbaik : {best_mape}\")"
   ]
  },
  {
   "cell_type": "code",
   "execution_count": null,
   "id": "ff268917-101a-4bb8-b8c6-34dd063446b5",
   "metadata": {},
   "outputs": [],
   "source": []
  },
  {
   "cell_type": "code",
   "execution_count": null,
   "id": "0c09701f-49f6-4d9b-93ec-7636d27955c4",
   "metadata": {},
   "outputs": [],
   "source": []
  },
  {
   "cell_type": "code",
   "execution_count": null,
   "id": "8dcadd35-93c0-456b-afda-bd93fddae0c4",
   "metadata": {},
   "outputs": [],
   "source": []
  },
  {
   "cell_type": "code",
   "execution_count": 7,
   "id": "ff84042d-20c0-4cb5-a89b-cf82768996a3",
   "metadata": {},
   "outputs": [
    {
     "name": "stdout",
     "output_type": "stream",
     "text": [
      "0.9028127644582353\n"
     ]
    }
   ],
   "source": [
    "print(mape)"
   ]
  },
  {
   "cell_type": "code",
   "execution_count": 8,
   "id": "a31bb80e-6968-40fc-8bab-184a8039f41d",
   "metadata": {},
   "outputs": [
    {
     "name": "stdout",
     "output_type": "stream",
     "text": [
      "Best Individual:  [0.2527526002996481]\n",
      "best C: 1.789586110022803\n"
     ]
    }
   ],
   "source": [
    "print('Best Individual: ', best_individual)\n",
    "print(\"best C:\", 10 ** best_individual[0])"
   ]
  },
  {
   "cell_type": "code",
   "execution_count": 10,
   "id": "fbe3f7f3-deda-4733-a5a3-58af94415b71",
   "metadata": {},
   "outputs": [
    {
     "name": "stdout",
     "output_type": "stream",
     "text": [
      "0.9466256155159226\n"
     ]
    }
   ],
   "source": [
    "C_best = 10 ** best_individual[0]\n",
    "svr_best = SVR(C=C_best)\n",
    "svr_best.fit(X_train, y_train)\n",
    "y_pred_best = svr_best.predict(X_test)\n",
    "mape_best = mean_absolute_percentage_error(y_test, y_pred_best)\n",
    "print(mape_best)"
   ]
  },
  {
   "cell_type": "code",
   "execution_count": 12,
   "id": "7925af90-d78a-4c06-9701-5e17cd7916a0",
   "metadata": {},
   "outputs": [
    {
     "name": "stdout",
     "output_type": "stream",
     "text": [
      "[29. 29. 29. 29. 29. 29. 29. 29. 29. 29. 29. 29.]\n",
      "1.6365199071081422\n"
     ]
    }
   ],
   "source": [
    "#svr = SVR(kernel='rbf', C=C, epsilon=epsilon, gamma=gamma)\n",
    "#svr.fit(X_train, y_train)\n",
    "#y_pred = svr.predict(X_test)\n",
    "\n",
    "best_C = 10 ** best_individual[0]\n",
    "best_epsilon = 10 ** best_individual[1]\n",
    "best_gamma = 10 ** best_individual[2]\n",
    "svr_best_model = SVR(kernel='rbf', C=best_C, epsilon=best_epsilon, gamma=best_gamma)\n",
    "\n",
    "# Training model\n",
    "svr_best_model.fit(X_train, y_train)\n",
    "\n",
    "# Prediksi\n",
    "y_pred_best = svr_best_model.predict(X_test)\n",
    "print(y_pred_best)\n",
    "mape_best = mean_absolute_percentage_error(y_test, y_pred_best)\n",
    "#mape = np.mean(np.abs((y_test-svr_best_model.predict(X_test))/y_test))*100\n",
    "#print(mape)\n",
    "print(mape_best)"
   ]
  },
  {
   "cell_type": "code",
   "execution_count": 7,
   "id": "1cd5cb75-4fd7-4058-906c-8369aacd2f00",
   "metadata": {},
   "outputs": [
    {
     "ename": "NameError",
     "evalue": "name 'best_individual' is not defined",
     "output_type": "error",
     "traceback": [
      "\u001b[1;31m---------------------------------------------------------------------------\u001b[0m",
      "\u001b[1;31mNameError\u001b[0m                                 Traceback (most recent call last)",
      "Cell \u001b[1;32mIn[7], line 2\u001b[0m\n\u001b[0;32m      1\u001b[0m \u001b[38;5;66;03m# Model SVR dengan hyperparameter terbaik\u001b[39;00m\n\u001b[1;32m----> 2\u001b[0m best_C, best_epsilon \u001b[38;5;241m=\u001b[39m \u001b[43mbest_individual\u001b[49m\n\u001b[0;32m      3\u001b[0m svr_best_model \u001b[38;5;241m=\u001b[39m SVR(C\u001b[38;5;241m=\u001b[39mbest_C, epsilon\u001b[38;5;241m=\u001b[39mbest_epsilon)\n\u001b[0;32m      5\u001b[0m \u001b[38;5;66;03m# Training model\u001b[39;00m\n",
      "\u001b[1;31mNameError\u001b[0m: name 'best_individual' is not defined"
     ]
    }
   ],
   "source": [
    "\n",
    "\n",
    "\n",
    "\n",
    "\n",
    "\n",
    "\n",
    "\n",
    "# Model SVR dengan hyperparameter terbaik\n",
    "best_C, best_epsilon = best_individual\n",
    "svr_best_model = SVR(C=best_C, epsilon=best_epsilon)\n",
    "\n",
    "# Training model\n",
    "svr_best_model.fit(X_train, y_train)\n",
    "\n",
    "# Prediksi\n",
    "y_pred_best = svr_best_model.predict(X_test)\n",
    "\n",
    "# Hitung MAPE\n",
    "mape_best = mean_absolute_percentage_error(y_test, y_pred_best)\n",
    "print(f'Best MAPE: {mape_best}')\n",
    "print(y_pred_best)"
   ]
  }
 ],
 "metadata": {
  "kernelspec": {
   "display_name": "Python 3 (ipykernel)",
   "language": "python",
   "name": "python3"
  },
  "language_info": {
   "codemirror_mode": {
    "name": "ipython",
    "version": 3
   },
   "file_extension": ".py",
   "mimetype": "text/x-python",
   "name": "python",
   "nbconvert_exporter": "python",
   "pygments_lexer": "ipython3",
   "version": "3.12.3"
  }
 },
 "nbformat": 4,
 "nbformat_minor": 5
}

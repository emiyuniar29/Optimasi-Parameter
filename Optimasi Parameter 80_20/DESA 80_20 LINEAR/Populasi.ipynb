{
 "cells": [
  {
   "cell_type": "code",
   "execution_count": 1,
   "id": "dbb6692d-757f-45d5-bc74-e75a787af5ac",
   "metadata": {},
   "outputs": [],
   "source": [
    "import random\n",
    "import numpy as np\n",
    "import pandas as pd\n",
    "import matplotlib.pyplot as plt\n",
    "from sklearn.preprocessing import MinMaxScaler\n",
    "from sklearn.model_selection import train_test_split\n",
    "from sklearn.svm import SVR\n",
    "from sklearn.metrics import mean_absolute_percentage_error\n",
    "from deap import base, creator, tools, algorithms"
   ]
  },
  {
   "cell_type": "code",
   "execution_count": 2,
   "id": "71b7f206-8b4d-43b8-bec2-04236ce9486e",
   "metadata": {},
   "outputs": [],
   "source": [
    "SEED = 42\n",
    "random.seed(SEED)\n",
    "np.random.seed(SEED)   \n",
    "\n",
    "data = pd.read_csv('DATA_DESA.csv')\n",
    "\n",
    "df = pd.DataFrame(data)\n",
    "\n",
    "# Membagi kolom tanggal menjadi tahun dan bulan\n",
    "df['tahun'] = df['tahun_bulan'].apply(lambda x: int(x.split('-')[0]))\n",
    "df['bulan'] = df['tahun_bulan'].apply(lambda x: int(x.split('-')[1]))\n",
    "\n",
    "# Normalisasi MinMax\n",
    "scaler = MinMaxScaler()\n",
    "df['jumlah_kecelakaan'] = scaler.fit_transform(df[['jumlah_kecelakaan']])\n",
    "\n",
    "# Memisahkan fitur dan target\n",
    "X = df[['tahun', 'bulan']].values\n",
    "y = df['jumlah_kecelakaan'].values"
   ]
  },
  {
   "cell_type": "code",
   "execution_count": 3,
   "id": "57d91698-0ec1-495a-b2c1-b4e7b1301634",
   "metadata": {},
   "outputs": [],
   "source": [
    "# Pisahkan data menjadi training dan testing\n",
    "X_train, X_val, y_train, y_val = train_test_split(X, y, test_size=0.2, random_state=SEED)"
   ]
  },
  {
   "cell_type": "code",
   "execution_count": 4,
   "id": "04009107-230d-48a2-95e6-3b2708419946",
   "metadata": {},
   "outputs": [],
   "source": [
    "# Fungsi untuk menghitung MAPE menggunakan model SVR dengan parameter tertentu\n",
    "def calculate_mape(X_train, y_train, X_val, y_val, params):\n",
    "    C, epsilon, gamma = params\n",
    "    svr = SVR(kernel='linear', C=C, epsilon=epsilon, gamma=gamma)\n",
    "    svr.fit(X_train, y_train)\n",
    "    y_pred = svr.predict(X_val)\n",
    "    mape = mean_absolute_percentage_error(y_val, y_pred) * 100\n",
    "    return mape\n",
    "\n",
    "# Inisialisasi populasi awal\n",
    "def initialize_population(population_size, parameter_ranges):\n",
    "    population = []\n",
    "    for _ in range(population_size):\n",
    "        chromosome = []\n",
    "        for param_range in parameter_ranges:\n",
    "            param_value = np.random.uniform(param_range[0], param_range[1])\n",
    "            chromosome.append(param_value)\n",
    "        population.append(chromosome)\n",
    "    return population\n",
    "\n",
    "# Seleksi individu berdasarkan nilai fitness (MAPE)\n",
    "def selection(population, X_train, y_train, X_val, y_val):\n",
    "    selected_population = []\n",
    "    for chromosome in population:\n",
    "        mape = calculate_mape(X_train, y_train, X_val, y_val, chromosome)\n",
    "        selected_population.append((chromosome, mape))\n",
    "    selected_population.sort(key=lambda x: x[1])  # Sort berdasarkan MAPE terendah\n",
    "    return selected_population[:len(population)//2]  # Pilih setengah individu terbaik\n",
    "\n",
    "# Crossover: Menghasilkan keturunan dari pasangan individu terpilih\n",
    "def crossover(selected_population):\n",
    "    new_population = []\n",
    "    ukuran_populasi = len(selected_population)\n",
    "    \n",
    "    for i in range(ukuran_populasi):\n",
    "        parent1 = selected_population[i][0]\n",
    "        \n",
    "        # Tentukan parent2 dengan pemeriksaan batas\n",
    "        if i % 2 == 0:\n",
    "            if i - 1 >= 0:\n",
    "                parent2 = selected_population[i-1][0]\n",
    "            else:\n",
    "                parent2 = selected_population[i][0]  # Penanganan alternatif jika i-1 tidak valid\n",
    "        else:\n",
    "            if i + 1 < ukuran_populasi:\n",
    "                parent2 = selected_population[i+1][0]\n",
    "            else:\n",
    "                parent2 = selected_population[i][0]  # Penanganan alternatif jika i+1 tidak valid\n",
    "        \n",
    "        crossover_point = np.random.randint(1, len(parent1)-1)\n",
    "        child = parent1[:crossover_point] + parent2[crossover_point:]\n",
    "        new_population.append(child)\n",
    "    \n",
    "    return new_population\n",
    "\n",
    "# Mutasi: Mengubah nilai gen secara acak pada populasi baru\n",
    "def mutation(new_population, mutation_rate, parameter_ranges):\n",
    "    for i in range(len(new_population)):\n",
    "        if np.random.random() < mutation_rate:\n",
    "            mutated_gene_index = np.random.randint(0, len(new_population[i]))\n",
    "            new_value = np.random.uniform(parameter_ranges[mutated_gene_index][0], parameter_ranges[mutated_gene_index][1])\n",
    "            new_population[i][mutated_gene_index] = new_value\n",
    "    return new_population"
   ]
  },
  {
   "cell_type": "code",
   "execution_count": 5,
   "id": "7c6131a3-d41b-41bd-b232-db04e6faf228",
   "metadata": {},
   "outputs": [
    {
     "name": "stdout",
     "output_type": "stream",
     "text": [
      "MAPE terbaik untuk populasi 10: 34.255113031863374\n",
      "MAPE terbaik untuk populasi 20: 33.94901039076479\n",
      "MAPE terbaik untuk populasi 30: 34.06632268370007\n",
      "MAPE terbaik untuk populasi 40: 33.99849419213675\n",
      "MAPE terbaik untuk populasi 50: 33.81591669607196\n",
      "MAPE terbaik untuk populasi 60: 33.795067152491\n",
      "MAPE terbaik untuk populasi 70: 33.86868420248465\n",
      "MAPE terbaik untuk populasi 80: 33.83080750919234\n",
      "MAPE terbaik untuk populasi 90: 33.82143937675598\n",
      "MAPE terbaik untuk populasi 100: 33.57201084031242\n",
      "\n",
      "Ukuran populasi optimal: [10, 20, 30, 40, 50, 60, 70, 80, 90, 100]\n",
      "MAPE terbaik: 33.57201084031242\n"
     ]
    }
   ],
   "source": [
    "population_sizes = [10, 20 ,30 ,40 ,50, 60, 70, 80, 90, 100]\n",
    "parameter_ranges = [(0.0001, 50), (1e-07, 5), (1e-07, 5)]\n",
    "results = []\n",
    "\n",
    "# Konfigurasi eksperimen\n",
    "crossover_rate = 0.5  # Tetapkan tingkat crossover tetap untuk eksperimen\n",
    "mutation_rate = 0.2  # Tetapkan tingkat mutasi tetap untuk eksperimen\n",
    "num_generations = 50  # Tetapkan jumlah generasi tetap untuk eksperimen\n",
    "\n",
    "# Mencari populasi optimal\n",
    "best_population_size = None\n",
    "best_mape = float('inf')\n",
    "\n",
    "for population_size in population_sizes:\n",
    "    population = initialize_population(population_size, parameter_ranges)\n",
    "    \n",
    "    for generation in range(num_generations):\n",
    "        selected_population = selection(population, X_train, y_train, X_val, y_val)\n",
    "        new_population = crossover(selected_population)\n",
    "        new_population = mutation(new_population, mutation_rate, parameter_ranges)\n",
    "\n",
    "        # Adjust the population size if necessary\n",
    "        if len(new_population) < population_size:\n",
    "            additional_individuals = initialize_population(population_size - len(new_population), parameter_ranges)\n",
    "            new_population.extend(additional_individuals)\n",
    "        elif len(new_population) > population_size:\n",
    "            new_population = new_population[:population_size]\n",
    "        \n",
    "        # Make sure the new population has the correct size\n",
    "        assert len(new_population) == population_size, \"Ukuran populasi baru tidak sesuai\"\n",
    "        \n",
    "        population = new_population\n",
    "    \n",
    "    # Mengambil individu terbaik (dengan MAPE terendah) dari populasi terakhir\n",
    "    best_chromosome, best_population_mape = min(selected_population, key=lambda x: x[1])\n",
    "    results.append((population_size, best_population_mape))\n",
    "\n",
    "    print(f\"MAPE terbaik untuk populasi {population_size}: {best_population_mape}\")\n",
    "    \n",
    "    if best_population_mape < best_mape:\n",
    "        best_mape = best_population_mape\n",
    "        best_population_size = population_sizes\n",
    "\n",
    "print(f\"\\nUkuran populasi optimal: {best_population_size}\")\n",
    "print(f\"MAPE terbaik: {best_mape}\")"
   ]
  },
  {
   "cell_type": "code",
   "execution_count": 6,
   "id": "740ad65c-448b-4936-bb0f-55cce3833784",
   "metadata": {},
   "outputs": [
    {
     "data": {
      "image/png": "[encoded data removed]",
      "text/plain": [
       "<Figure size 640x480 with 1 Axes>"
      ]
     },
     "metadata": {},
     "output_type": "display_data"
    }
   ],
   "source": [
    "# Plot hasil setiap iterasi dan nilai MAPE-nya\n",
    "population_size, best_population_mape = zip(*results)\n",
    "plt.plot(population_size, best_population_mape, marker='o')\n",
    "plt.xlabel(\"Jumlah Populasi\")\n",
    "plt.ylabel(\"MAPE\")\n",
    "plt.title(\"MAPE vs Jumlah Populasi\")\n",
    "plt.grid(True)\n",
    "plt.show()"
   ]
  },
  {
   "cell_type": "code",
   "execution_count": null,
   "id": "c0363094-002b-4d5a-bc9f-f9ec3afcf02f",
   "metadata": {},
   "outputs": [],
   "source": []
  }
 ],
 "metadata": {
  "kernelspec": {
   "display_name": "Python 3 (ipykernel)",
   "language": "python",
   "name": "python3"
  },
  "language_info": {
   "codemirror_mode": {
    "name": "ipython",
    "version": 3
   },
   "file_extension": ".py",
   "mimetype": "text/x-python",
   "name": "python",
   "nbconvert_exporter": "python",
   "pygments_lexer": "ipython3",
   "version": "3.12.3"
  }
 },
 "nbformat": 4,
 "nbformat_minor": 5
}
